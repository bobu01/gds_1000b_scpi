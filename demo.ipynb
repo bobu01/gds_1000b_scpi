{
 "cells": [
  {
   "cell_type": "code",
   "execution_count": 1,
   "id": "108acc2a",
   "metadata": {},
   "outputs": [],
   "source": [
    "# %load main.py\n",
    "#!/usr/bin/env python3\n",
    "#  main.py\n",
    "#  default file header\n",
    "#  Copyright 2021 bob <bob@e6330>\n",
    "#  \n",
    "#  This program is free software; you can redistribute it and/or modify\n",
    "#  it under the terms of the GNU General Public License as published by\n",
    "#  the Free Software Foundation; either version 2 of the License, or\n",
    "#  (at your option) any later version.\n",
    "#  \n",
    "#  This program is distributed in the hope that it will be useful,\n",
    "#  but WITHOUT ANY WARRANTY; without even the implied warranty of\n",
    "#  MERCHANTABILITY or FITNESS FOR A PARTICULAR PURPOSE.  See the\n",
    "#  GNU General Public License for more details.\n",
    "#  \n",
    "#  You should have received a copy of the GNU General Public License\n",
    "#  along with this program; if not, write to the Free Software\n",
    "#  Foundation, Inc., 51 Franklin Street, Fifth Floor, Boston,\n",
    "#  MA 02110-1301, USA.\n",
    "#  \n",
    "#  \n",
    "\n",
    "import pickle\n",
    "import serial\n",
    "from IPython.display import display\n",
    "from gds_scpi import scpi_disp_out\n",
    "from gds_scpi import expand_rle"
   ]
  },
  {
   "cell_type": "code",
   "execution_count": 2,
   "id": "aea04d57",
   "metadata": {},
   "outputs": [],
   "source": [
    "# ============================================================================\n",
    "# MAIN HERE\n",
    "# ============================================================================\n",
    "if __name__ == '__main__':\n",
    "    # Main. Run the o-scope interface demo.\n",
    "    # FIXME add command line option parsing here\n",
    "\n",
    "    # configure port instance, but don't auto-open\n",
    "    ser = serial.Serial(None, baudrate=38400,\n",
    "                        bytesize=8, parity ='N', stopbits=1,\n",
    "                        xonxoff=False, dsrdtr=False, rtscts=False,\n",
    "                        timeout=2)\n",
    "    # FIXME use list_ports() in serial.tools for port selection\n",
    "    # set a fixed port path for now\n",
    "    PORT = '/dev/ttyACM0'\n",
    "    # PORT = '/dev/ttyACM1'\n",
    "    ser.port = PORT"
   ]
  },
  {
   "cell_type": "code",
   "execution_count": 3,
   "id": "648618a1",
   "metadata": {
    "scrolled": true
   },
   "outputs": [
    {
     "name": "stdout",
     "output_type": "stream",
     "text": [
      "start testing\n",
      "reading display image next\n"
     ]
    }
   ],
   "source": [
    "    print('start testing')\n",
    "\n",
    "    # try reading the screen image\n",
    "    print('reading display image next')\n",
    "    img_dat = scpi_disp_out(ser)\n",
    "\n",
    "  "
   ]
  },
  {
   "cell_type": "code",
   "execution_count": 4,
   "id": "d5a7f03c",
   "metadata": {},
   "outputs": [
    {
     "name": "stdout",
     "output_type": "stream",
     "text": [
      "Overwrite RLE object as ./rle_out1 (y or n)?n\n"
     ]
    }
   ],
   "source": [
    "# save the RLE object for another day?\n",
    "resp_str = input(\"Overwrite RLE object as ./rle_out1 (y or n)?\")\n",
    "if 'y' in resp_str.lower():\n",
    "    with open('rle_out1', mode='wb') as file_handle:\n",
    "        pickle.dump(img_dat, file_handle)\n",
    "    print('done file write')"
   ]
  },
  {
   "cell_type": "code",
   "execution_count": 5,
   "id": "ee3c237e",
   "metadata": {},
   "outputs": [],
   "source": [
    "# display screen image (in a new window)\n",
    "im1 = expand_rle(img_dat)\n",
    "im1.show()\n",
    "# *** end ***"
   ]
  },
  {
   "cell_type": "code",
   "execution_count": 6,
   "id": "2292fae8",
   "metadata": {},
   "outputs": [
    {
     "data": {
      "image/png": "[encoded data removed]",
      "text/plain": [
       "<PIL.Image.Image image mode=RGB size=800x480 at 0x7F53B04ADF40>"
      ]
     },
     "metadata": {},
     "output_type": "display_data"
    }
   ],
   "source": [
    "# display in line below\n",
    "display(im1)"
   ]
  },
  {
   "cell_type": "code",
   "execution_count": 11,
   "id": "23b51c0f",
   "metadata": {},
   "outputs": [],
   "source": [
    "display"
   ]
  },
  {
   "cell_type": "code",
   "execution_count": null,
   "id": "72fbc90f",
   "metadata": {},
   "outputs": [],
   "source": []
  }
 ],
 "metadata": {
  "kernelspec": {
   "display_name": "Python 3 (ipykernel)",
   "language": "python",
   "name": "python3"
  },
  "language_info": {
   "codemirror_mode": {
    "name": "ipython",
    "version": 3
   },
   "file_extension": ".py",
   "mimetype": "text/x-python",
   "name": "python",
   "nbconvert_exporter": "python",
   "pygments_lexer": "ipython3",
   "version": "3.8.12"
  }
 },
 "nbformat": 4,
 "nbformat_minor": 5
}
