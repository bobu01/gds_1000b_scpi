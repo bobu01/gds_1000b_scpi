{
 "cells": [
  {
   "cell_type": "code",
   "execution_count": 1,
   "id": "108acc2a",
   "metadata": {},
   "outputs": [],
   "source": [
    "#!/usr/bin/env python3\n",
    "# Demo data acquisition and plot in Jupyter notebook  \n",
    "import serial\n",
    "from IPython.display import display\n",
    "from gds_scpi import scpi_acq_mem_head\n",
    "from numpy import linspace\n",
    "\n",
    "# FIXME add command line option parsing here"
   ]
  },
  {
   "cell_type": "code",
   "execution_count": 2,
   "id": "aea04d57",
   "metadata": {},
   "outputs": [],
   "source": [
    "# FIXME move declaration of the serial object to an _init_() method in a\n",
    "# new class. With ser declared here, ser object has to be passed to the\n",
    "# functions that use it.\n",
    "\n",
    "# configure port instance, but don't auto-open\n",
    "ser = serial.Serial(None, baudrate=38400,\n",
    "                    bytesize=8, parity ='N', stopbits=1,\n",
    "                    xonxoff=False, dsrdtr=False, rtscts=False,\n",
    "                    timeout=2)\n",
    "\n",
    "# FIXME use list_ports() in serial.tools for port selection\n",
    "# set a fixed port path for now\n",
    "PORT = '/dev/ttyACM0'\n",
    "# PORT = '/dev/ttyACM1'\n",
    "ser.port = PORT"
   ]
  },
  {
   "cell_type": "code",
   "execution_count": 3,
   "id": "648618a1",
   "metadata": {
    "scrolled": false
   },
   "outputs": [
    {
     "name": "stdout",
     "output_type": "stream",
     "text": [
      "request acquisition header and data for channel 1\n",
      "got 100000.0 points\n"
     ]
    }
   ],
   "source": [
    "channel = 1\n",
    "print('request acquisition header and data for channel', channel)\n",
    "\n",
    "# request the acquisition header and data\n",
    "# this may take seconds for >=100k points\n",
    "acq_dir, acq_data = scpi_acq_mem_head(ser, channel)\n",
    "\n",
    "print('got', acq_dir['Memory Length'], 'points')"
   ]
  },
  {
   "cell_type": "code",
   "execution_count": 4,
   "id": "6708525e",
   "metadata": {},
   "outputs": [],
   "source": [
    "# Vertical counts per division\n",
    "COUNT_PER_DIV = 25\n",
    "VERT_DIVS = 8\n",
    "VERT_MAX = +4\n",
    "VERT_MIN = -4\n",
    "# Screen division grid\n",
    "HORIZ_DIVS = 10\n",
    "HORIZ_MIN = -5\n",
    "HORIZ_MAX = +5"
   ]
  },
  {
   "cell_type": "code",
   "execution_count": 5,
   "id": "19904abb",
   "metadata": {},
   "outputs": [],
   "source": [
    "# calculate time scaling and position\n",
    "time_start = (HORIZ_MIN * acq_dir['Horizontal Scale']\n",
    "             + acq_dir['Horizontal Position'])\n",
    "time_step = (HORIZ_DIVS * acq_dir['Horizontal Scale']\n",
    "             / acq_dir['Memory Length'])\n",
    "vert_multi = acq_dir['Vertical Scale'] / COUNT_PER_DIV"
   ]
  },
  {
   "cell_type": "code",
   "execution_count": 6,
   "id": "62e57c75",
   "metadata": {},
   "outputs": [],
   "source": [
    "# build list of scaled points\n",
    "scaled_x = []\n",
    "scaled_y = []\n",
    "for n, adc in enumerate(acq_data):\n",
    "    scaled_x.append(time_step * n + time_start)\n",
    "    scaled_y.append(adc * vert_multi)"
   ]
  },
  {
   "cell_type": "code",
   "execution_count": 7,
   "id": "1cc93cf6",
   "metadata": {},
   "outputs": [],
   "source": [
    "# calculate y axis min and max same as screen\n",
    "y_min = VERT_MIN * acq_dir['Vertical Scale'] + acq_dir['Vertical Position']\n",
    "y_max = VERT_MAX * acq_dir['Vertical Scale'] + acq_dir['Vertical Position']\n",
    "y_ticks = linspace(y_min, y_max, VERT_DIVS+1)"
   ]
  },
  {
   "cell_type": "code",
   "execution_count": 8,
   "id": "ae7ac13d",
   "metadata": {},
   "outputs": [],
   "source": [
    "# get x axis min and max from scaled_x[]\n",
    "x_min = scaled_x[0]\n",
    "x_max = scaled_x[-1]\n",
    "\n",
    "# define x tick marks, major ticks get labeled\n",
    "x_ticks_major = [x_min, acq_dir['Horizontal Position'], x_max]\n",
    "x_ticks_minor = linspace(x_min, x_max, HORIZ_DIVS+1)"
   ]
  },
  {
   "cell_type": "code",
   "execution_count": 9,
   "id": "64d670a8",
   "metadata": {},
   "outputs": [
    {
     "data": {
      "text/plain": [
       "<function matplotlib.pyplot.show(close=None, block=None)>"
      ]
     },
     "execution_count": 9,
     "metadata": {},
     "output_type": "execute_result"
    },
    {
     "data": {
      "image/png": "[encoded data removed]",
      "text/plain": [
       "<Figure size 432x288 with 1 Axes>"
      ]
     },
     "metadata": {
      "needs_background": "light"
     },
     "output_type": "display_data"
    }
   ],
   "source": [
    "# use inline plotting\n",
    "%matplotlib inline\n",
    "\n",
    "# or default interactive\n",
    "# %matplotlib\n",
    "\n",
    "from matplotlib import pyplot as plt \n",
    "\n",
    "# new plot object instance\n",
    "fig, ax = plt.subplots()\n",
    "# add line plot from scaled data\n",
    "ax.plot(scaled_x, scaled_y, linewidth=1)\n",
    "# plot ranges\n",
    "ax.set_ylim(y_min, y_max)\n",
    "ax.set_xlim(x_min, x_max)\n",
    "# gridding\n",
    "ax.set_yticks(y_ticks)\n",
    "ax.set_xticks(x_ticks_major)\n",
    "ax.set_xticks(x_ticks_minor, minor=True)\n",
    "ax.grid(axis='both', which='both')\n",
    "# add trigger markers\n",
    "ax.plot(0, y_max * 0.98, 'Dr')\n",
    "ax.plot(0, y_min * 0.98, 'Dr')\n",
    "# then show\n",
    "plt.show"
   ]
  }
 ],
 "metadata": {
  "kernelspec": {
   "display_name": "Python 3 (ipykernel)",
   "language": "python",
   "name": "python3"
  },
  "language_info": {
   "codemirror_mode": {
    "name": "ipython",
    "version": 3
   },
   "file_extension": ".py",
   "mimetype": "text/x-python",
   "name": "python",
   "nbconvert_exporter": "python",
   "pygments_lexer": "ipython3",
   "version": "3.9.7"
  }
 },
 "nbformat": 4,
 "nbformat_minor": 5
}
